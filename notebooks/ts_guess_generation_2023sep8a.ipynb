{
 "cells": [
  {
   "cell_type": "markdown",
   "id": "63e56282",
   "metadata": {},
   "source": [
    "## This notebook uses RDMC to generate initial TS guess from user-provided atom-mapped reaction smiles\n",
    "\n",
    "### currently implemented for bi-molecular H abstraction reactions\n",
    "### There's a parallelized version available\n",
    "### last updated by Oscar Sep8 2023"
   ]
  },
  {
   "cell_type": "code",
   "execution_count": 1,
   "id": "1bb83727",
   "metadata": {},
   "outputs": [],
   "source": [
    "import os\n",
    "import sys\n",
    "sys.path.append(os.path.dirname(os.path.abspath('/home/oscar/code/RDMC/rdmc')))\n",
    "\n",
    "import pickle\n",
    "import multiprocessing as mp\n",
    "\n",
    "from itertools import chain\n",
    "from rdmc import RDKitMol\n",
    "from rdmc.ts import get_formed_and_broken_bonds\n",
    "from rdmc.view import ts_viewer\n",
    "from rdmc.view import mol_viewer\n",
    "from rdkit.Chem import AllChem\n",
    "\n",
    "from rdmc.forcefield import RDKitFF\n",
    "\n",
    "import numpy as np\n",
    "import pandas as pd\n",
    "import json\n",
    "import copy"
   ]
  },
  {
   "cell_type": "code",
   "execution_count": 2,
   "id": "065180f1",
   "metadata": {},
   "outputs": [
    {
     "data": {
      "text/html": [
       "<style>.container { width:100% !important; }</style>"
      ],
      "text/plain": [
       "<IPython.core.display.HTML object>"
      ]
     },
     "metadata": {},
     "output_type": "display_data"
    }
   ],
   "source": [
    "from IPython.display import display, HTML\n",
    "display(HTML(\"<style>.container { width:100% !important; }</style>\"))"
   ]
  },
  {
   "cell_type": "markdown",
   "id": "d1913bab",
   "metadata": {},
   "source": [
    "# Function to generate a bi-habs TS example"
   ]
  },
  {
   "cell_type": "code",
   "execution_count": 3,
   "id": "1dbd4729",
   "metadata": {},
   "outputs": [],
   "source": [
    "# here we pick a force field for embedding initial reactant/product geometry\n",
    "ps = AllChem.ETKDGv3()\n",
    "# this mkae sure we get different embedding each time\n",
    "ps.randomSeed=np.random.randint(1,10000000)\n",
    "\n",
    "def gen_ts(rxn_smi,\n",
    "           angle_X_H_Y,\n",
    "           dihedral_1,\n",
    "           dihedral_2,\n",
    "           h_extractor_regexpr = None, # need update\n",
    "           bond_length_scale_factor=1.25,\n",
    "           bond_length_X_H = None, # optional \n",
    "           bond_length_H_Y = None, # optional \n",
    "          ):\n",
    "    \"\"\"\n",
    "    Generate a bi-molecular h abstraction TS example. Other reaction family not implemented yet.\n",
    "    \n",
    "    Input:\n",
    "        rxn_smi: atom-mapped reaction smiles \n",
    "        angle_X_H_Y: bond angle (degree) between fragment X, H, and fragment Y in the TS\n",
    "        dihedral_1: bond dihedral angle (degree) for the reaction center defined by one part of the fragment\n",
    "        dihedral_2: bond dihedral angle (degree) for the reaction center defined by the other part of \n",
    "                    the fragment (different from dihedral_1)\n",
    "        bond_length_scale_factor: this is empricial constant, can be learned \n",
    "    Optional Input:\n",
    "        bond_length_X_H: bond length (angstrom) between fragment X and H in the TS (X - H - Y)\n",
    "        bond_length_H_Y: bond length (angstrom) between fragment Y and H in the TS (X - H - Y)\n",
    "        note: the bond lengths are automatically determined from reactant and product geometry unless specified by user\n",
    "              todo: overwrite with user provided info if value is given\n",
    "        h_extractor_regexpr: todo: this is hardcoded, need to be improved. this is for finding the ROO* radical in the reaction smile. this was implemented because sometimes it's difficult to figure out which species is the ROO* extractor (see the TS geometry illustration below), \n",
    "                             but we should have a better way of handling this. or ask the user to give standardized reaction smile to this function.\n",
    "        \n",
    "    Output:\n",
    "        r_complex: RDkitMol\n",
    "        p_complex: RDkitMol\n",
    "        ts: RDkitMol\n",
    "        \n",
    "    \n",
    "    Notation for TS geometry \n",
    "    \n",
    "    r2_end_bulky_atom - ts_r2_atom --- ts_h_atom --- ts_r1oo_atom - r1oo_o2_atom - r1oo_end_atom\n",
    "    \n",
    "            R2X       -    R2E     ---    TS     ---    R1O       -      R1OO    -     R1X   \n",
    "            \n",
    "           this part is reactant 2, r2                  this part is reactant 1, r1\n",
    "           we assume r2 is the closed shell             we assume r1 is the ROO* radical  \n",
    "           molecule being attacked\n",
    "    \"\"\"\n",
    "    \n",
    "    # generate reactant and product complex RDkitMOl from smiles\n",
    "    r_complex, p_complex = [RDKitMol.FromSmiles(smi) for smi in rxn_smi.split(\">>\")]\n",
    "    \n",
    "    # perceive reaction center (bi-habs)\n",
    "    fbond, bbond = get_formed_and_broken_bonds(r_complex, p_complex) # formed, broken bonds indices \n",
    "    the_h_atom = list(set(chain(*fbond)).intersection(chain(*bbond))) # the H atom index in the TS\n",
    "    pivot_atoms = list(set(chain(*(fbond+bbond))).difference(the_h_atom)) # TS dihedral indices \n",
    "    \n",
    "    # generate TS using reactants \n",
    "    # get atom indexes in each molecule fragments\n",
    "    frags = r_complex.GetMolFrags() # reactants complex\n",
    "    frags_p = p_complex.GetMolFrags() # products complex \n",
    "    \n",
    "    # embed 3D geometry\n",
    "    r_complex.EmbedConformer(ps) # here we use ETKDGv3() defined on top of the notebook, but can be changed to others if needed \n",
    "    ts = r_complex.AddRedundantBonds(fbond) # we need to add redundant bond to the reactant complex graph to represent the TS geometry \n",
    "    conf = ts.GetConformer() # embed TS conformer\n",
    "    \n",
    "    # set TS bond length\n",
    "    # we just embedded a TS conformer but without setting the bond distance. this step is crucial for having a good TS guess geometry\n",
    "    \n",
    "    # here we try to figure out which species are expected r1, r2, p1, p2 from given reaction smiles\n",
    "    # lots of hardcode here, maybe we should really ask the user to provide us smiles that match our expectation (or we have another function to pre-process the smiles before this function, since the main purpose of the function here is \n",
    "    # really to generate TS but not trying to correct smiles)\n",
    "    smi_ordered, smi_original, spc_idx = determine_rp_order(rxn_smi, regexpr=h_extractor_regexpr) \n",
    "    r1, r2, p1, p2 = smi_ordered # change to expected order\n",
    "    _r1, _r2, _p1, _p2 = smi_original # store original order in case we need it  \n",
    "    \n",
    "    # this check which one is r1 or r2 base on TS atom index, hardcoded, notice that the following code combined with the the above one might be a bit confusing, but the net effect is that we want to make sure r1_dist is the ROO-H distance, \n",
    "    # and r2_dist is the other one\n",
    "    if ':' + str(pivot_atoms[0]) + ']' in r2:\n",
    "        r2_idx = 0\n",
    "        r1_idx = 1\n",
    "    else:\n",
    "        r2_idx = 1\n",
    "        r1_idx = 0\n",
    "    \n",
    "    # update bond distance of TS H atom -- r2\n",
    "    \n",
    "    # step 1-1: we find the reacting bond distance of r2 when it's not in the TS based on averaging of several conformers   \n",
    "    r2_dist = return_opt_spc_bond_distance(spc_smi = r2,\n",
    "                            pivot_atom = pivot_atoms[r2_idx],\n",
    "                            the_h_atom = the_h_atom[0],\n",
    "                            atom_map_idx = frags[1],  \n",
    "                            )\n",
    "    # step 2-1: we scale the reacting bond with a scaling factor, the factor is provided by user currently, but it can be learned since it depends on reactant/product type (usually 25% is good starting guess for C-H, 15% for O-H etc)\n",
    "    bond_length_H_Y = r2_dist * bond_length_scale_factor\n",
    "    conf.SetBondLength([pivot_atoms[r2_idx], the_h_atom[0]], bond_length_H_Y)\n",
    "    \n",
    "    \n",
    "    # we do the same thing to update bond distance of TS H atom -- r1\n",
    "    # note here we use product information to figure out the distance \n",
    "    # step: 1-2\n",
    "    r1_dist = return_opt_spc_bond_distance(spc_smi = p1,\n",
    "                            pivot_atom = pivot_atoms[r1_idx],\n",
    "                            the_h_atom = the_h_atom[0],\n",
    "                            atom_map_idx = frags_p[0],  \n",
    "                            )\n",
    "    \n",
    "    # step: 2-2\n",
    "    bond_length_X_H = r1_dist * bond_length_scale_factor # in theory, this scale factor for product does not have to be the same as for reactant, we can seperate them; here use the same for demo \n",
    "    \n",
    "    \n",
    "    # step 3: set bond length for the TS complex \n",
    "    conf.SetBondLength([pivot_atoms[r1_idx], the_h_atom[0]], bond_length_X_H)\n",
    "    \n",
    "    # set TS angle\n",
    "    conf.SetAngleDeg([pivot_atoms[0], the_h_atom[0], pivot_atoms[1]], angle_X_H_Y) # angle_X_H_Y can be learned, but usually 160 deg is good for most bi-mol H abs family\n",
    "    \n",
    "    # set TS dihedral\n",
    "    # note: there are two sets of dihedrals for the TS, since a dihedral is defined by 4 connecting atoms, and there are 5 atoms connected in the TS region, thus 2 sets of dihedrals \n",
    "    \n",
    "    # to set dihedrals, we need to first figure out the indices of neighboring atoms \n",
    "    neighbor_r1 = [atom.GetIdx() for atom in ts.GetAtomWithIdx(pivot_atoms[r1_idx]).GetNeighbors() if atom.GetIdx() != the_h_atom[0]][0]\n",
    "    neighbor_r2 = [atom.GetIdx() for atom in ts.GetAtomWithIdx(pivot_atoms[r2_idx]).GetNeighbors() if atom.GetIdx() != the_h_atom[0]][0]\n",
    "    \n",
    "    # set dihedrals\n",
    "    # note: the dihedrals can actually be searched or learned, but not implemented yet, currently we set to user provided value\n",
    "    conf.SetTorsionDeg([neighbor_r1, pivot_atoms[r1_idx], the_h_atom[0], pivot_atoms[r2_idx]], dihedral_1)\n",
    "    conf.SetTorsionDeg([pivot_atoms[r1_idx], the_h_atom[0], pivot_atoms[r2_idx], neighbor_r2], dihedral_2)\n",
    "    \n",
    "    # summarize of ts geometry info (atom indices), mostly for easy manipulation later \n",
    "    ts_geom_info = tuple([the_h_atom[0], pivot_atoms[r1_idx], pivot_atoms[r2_idx], neighbor_r1, neighbor_r2])\n",
    "\n",
    "    # store indices for ts bonds, and initial bond distances for later analysis purposes\n",
    "    ts_bd_idx = tuple([r1_idx, r2_idx])\n",
    "    ts_est_bd_dist = tuple([bond_length_X_H, bond_length_H_Y])\n",
    "    \n",
    "    return r_complex, p_complex, ts, frags, ts_geom_info, ts_est_bd_dist, ts_bd_idx"
   ]
  },
  {
   "cell_type": "code",
   "execution_count": 4,
   "id": "2f17c4af",
   "metadata": {},
   "outputs": [],
   "source": [
    "# this function calcualte R-H bond distances for closed-shell reactant/product species based on averaging of N conformers embedded from force field \n",
    "# a helper function used in gen_ts\n",
    "def return_opt_spc_bond_distance(\n",
    "    spc_smi,\n",
    "    pivot_atom,\n",
    "    the_h_atom,\n",
    "    atom_map_idx,    \n",
    "    averaged = 5,\n",
    "    ):\n",
    "\n",
    "    \"\"\"\n",
    "    Return the optimized bond distance of reacting R-H from reactant/product species. Only use on non-radical RH species. \n",
    "    \"\"\"\n",
    "    \n",
    "    bd_list = list()\n",
    "    \n",
    "    while averaged:\n",
    "        r = RDKitMol.FromSmiles(spc_smi)\n",
    "        ff = RDKitFF('mmff94s')\n",
    "        r.EmbedConformer(ps)\n",
    "        ff.setup(r)\n",
    "        ff.optimize()\n",
    "        m = ff.get_optimized_mol()\n",
    "\n",
    "        r_conf = r.GetConformer()\n",
    "        r_conf.SetPositions(m.GetPositions())\n",
    "\n",
    "        h_idx = atom_map_idx.index(the_h_atom)\n",
    "        pivot_idx = atom_map_idx.index(pivot_atom)\n",
    "\n",
    "        bd = r_conf.GetBondLength([h_idx, pivot_idx])\n",
    "        bd_list.append(bd)\n",
    "        averaged -= 1\n",
    "        \n",
    "    return sum(bd_list)/len(bd_list)   "
   ]
  },
  {
   "cell_type": "code",
   "execution_count": 5,
   "id": "318f98b4",
   "metadata": {},
   "outputs": [],
   "source": [
    "# this is a helper function to standardize reaction smile and determine the expected reactant/product order\n",
    "# a helper function used in gen_ts\n",
    "# we can probably improve this function as this is pretty hard-coded\n",
    "def determine_rp_order(rxn_smi, regexpr):\n",
    "    \n",
    "    _r1, _r2 = rxn_smi.split(\">>\")[0].split('.')\n",
    "    _p1, _p2 = rxn_smi.split(\">>\")[1].split('.')\n",
    "    \n",
    "    \n",
    "    if regexpr is None:\n",
    "        r1 = _r1\n",
    "        r2 = _r2\n",
    "        \n",
    "        r1_idx = 0\n",
    "        r2_idx = 1\n",
    "        \n",
    "        p1 = _p1\n",
    "        p2 = _p2\n",
    "        \n",
    "        p1_idx = 0\n",
    "        p2_idx = 1\n",
    "\n",
    "        return (r1, r2, p1, p2), (_r1, _r2, _p1, _p2), (r1_idx, r2_idx, p1_idx, p2_idx)\n",
    "        \n",
    "    if regexpr in _r1:\n",
    "        r1 = _r1\n",
    "        r2 = _r2\n",
    "        \n",
    "        r1_idx = 0\n",
    "        r2_idx = 1\n",
    "    else:\n",
    "        r1 = _r2\n",
    "        r2 = _r1\n",
    "        \n",
    "        r1_idx = 1\n",
    "        r2_idx = 0\n",
    "        \n",
    "    if regexpr in _p1:\n",
    "        p1 = _p1\n",
    "        p2 = _p2\n",
    "        \n",
    "        p1_idx = 0\n",
    "        p2_idx = 1\n",
    "    else:\n",
    "        p1 = _p2\n",
    "        p2 = _p1\n",
    "        \n",
    "        p1_idx = 1\n",
    "        p2_idx = 0\n",
    "    \n",
    "    return (r1, r2, p1, p2), (_r1, _r2, _p1, _p2), (r1_idx, r2_idx, p1_idx, p2_idx)"
   ]
  },
  {
   "cell_type": "code",
   "execution_count": 6,
   "id": "3eab9dab",
   "metadata": {},
   "outputs": [],
   "source": [
    "# test of determine_rp_order\n",
    "# notice that specifying `regexpr` will have an effect on the outcome"
   ]
  },
  {
   "cell_type": "code",
   "execution_count": 7,
   "id": "83914499",
   "metadata": {},
   "outputs": [],
   "source": [
    "rxn_smi = '[H:11][C:16]([H:12])([H:13])[C:17]([H:14])([H:15])[F:18].[H:1][C:6]([H:2])([H:3])[S:10][C:7]([H:4])([H:5])[O:9][O:8]>>[H:12][C:16]([H:13])[C:17]([H:14])([H:15])[F:18].[H:1][C:6]([H:2])([H:3])[S:10][C:7]([H:4])([H:5])[O:9][O:8][H:11]'"
   ]
  },
  {
   "cell_type": "code",
   "execution_count": 8,
   "id": "b9a845a0",
   "metadata": {},
   "outputs": [
    {
     "data": {
      "text/plain": [
       "(('[H:11][C:16]([H:12])([H:13])[C:17]([H:14])([H:15])[F:18]',\n",
       "  '[H:1][C:6]([H:2])([H:3])[S:10][C:7]([H:4])([H:5])[O:9][O:8]',\n",
       "  '[H:12][C:16]([H:13])[C:17]([H:14])([H:15])[F:18]',\n",
       "  '[H:1][C:6]([H:2])([H:3])[S:10][C:7]([H:4])([H:5])[O:9][O:8][H:11]'),\n",
       " ('[H:11][C:16]([H:12])([H:13])[C:17]([H:14])([H:15])[F:18]',\n",
       "  '[H:1][C:6]([H:2])([H:3])[S:10][C:7]([H:4])([H:5])[O:9][O:8]',\n",
       "  '[H:12][C:16]([H:13])[C:17]([H:14])([H:15])[F:18]',\n",
       "  '[H:1][C:6]([H:2])([H:3])[S:10][C:7]([H:4])([H:5])[O:9][O:8][H:11]'),\n",
       " (0, 1, 0, 1))"
      ]
     },
     "execution_count": 8,
     "metadata": {},
     "output_type": "execute_result"
    }
   ],
   "source": [
    "determine_rp_order(rxn_smi, regexpr=None)"
   ]
  },
  {
   "cell_type": "code",
   "execution_count": 9,
   "id": "cd6b2522",
   "metadata": {},
   "outputs": [
    {
     "data": {
      "text/plain": [
       "(('[H:1][C:6]([H:2])([H:3])[S:10][C:7]([H:4])([H:5])[O:9][O:8]',\n",
       "  '[H:11][C:16]([H:12])([H:13])[C:17]([H:14])([H:15])[F:18]',\n",
       "  '[H:1][C:6]([H:2])([H:3])[S:10][C:7]([H:4])([H:5])[O:9][O:8][H:11]',\n",
       "  '[H:12][C:16]([H:13])[C:17]([H:14])([H:15])[F:18]'),\n",
       " ('[H:11][C:16]([H:12])([H:13])[C:17]([H:14])([H:15])[F:18]',\n",
       "  '[H:1][C:6]([H:2])([H:3])[S:10][C:7]([H:4])([H:5])[O:9][O:8]',\n",
       "  '[H:12][C:16]([H:13])[C:17]([H:14])([H:15])[F:18]',\n",
       "  '[H:1][C:6]([H:2])([H:3])[S:10][C:7]([H:4])([H:5])[O:9][O:8][H:11]'),\n",
       " (1, 0, 1, 0))"
      ]
     },
     "execution_count": 9,
     "metadata": {},
     "output_type": "execute_result"
    }
   ],
   "source": [
    "determine_rp_order(rxn_smi, regexpr='[O:9][O:8]')"
   ]
  },
  {
   "cell_type": "code",
   "execution_count": 10,
   "id": "513751df",
   "metadata": {},
   "outputs": [],
   "source": [
    "# this function check if the TS guess has atoms colliding with each other\n",
    "# 0.4 anstrom is an empirical parameter \n",
    "def check_hard_collision(ts, threshold=0.4):\n",
    "    if ts.HasCollidingAtoms(threshold=threshold):\n",
    "        raise ValueError('Atom collision detected.')"
   ]
  },
  {
   "cell_type": "code",
   "execution_count": 11,
   "id": "6b75f6ab",
   "metadata": {},
   "outputs": [],
   "source": [
    "# this function check if two parts of the TS are too close to each other\n",
    "# since the TS bond distance is about 1.3 anstrom for C-H, if two fragements are closer than this, additional bonds may form (collision)\n",
    "def check_fragment_collision(ts, frags, threshold=1.3):\n",
    "    distance_matrix = np.triu(ts.GetDistanceMatrix())\n",
    "    index = frags[0][-1] + 1 # atom index of second fragment in the reactant complex \n",
    "    fragment_bond_distance_matrix = distance_matrix[0:index, index:] # check if two fragments are too close to each other \n",
    "    if np.any(fragment_bond_distance_matrix < threshold):\n",
    "        raise ValueError('Reactants collision detected.')\n",
    "    else:\n",
    "        small_distances = fragment_bond_distance_matrix[fragment_bond_distance_matrix < 2]\n",
    "        relax_score = np.sum((small_distances-2)**2)\n",
    "        return relax_score # notice that we return a score where the larger the score, the more seperated the two fragments of the TS are (ideal for initial guess)"
   ]
  },
  {
   "cell_type": "code",
   "execution_count": 12,
   "id": "f6413be7",
   "metadata": {},
   "outputs": [],
   "source": [
    "# a helper function to optimize the transition state using force field\n",
    "# note: this is a constrained optimization that fixes the two TS bond distances first, \n",
    "# then, we optimize the geometry to a stable point to relax it (not to a saddle point as in typical ts search)\n",
    "# the idea here is to relax each fragment of the ts to make the geometry more reasonable \n",
    "def opt_ts_ff(rxn_smi, ts, ts_geom_info, ts_est_bd_dist, ts_bd_idx):\n",
    "    \n",
    "    bond_length_X_H, bond_length_H_Y = ts_est_bd_dist\n",
    "    r1_idx, r2_idx = ts_bd_idx\n",
    "    \n",
    "    ff = RDKitFF('mmff94s')\n",
    "    fake_ts = RDKitMol.FromSmiles(rxn_smi.split('>>')[0])\n",
    "    fake_ts.EmbedConformer()\n",
    "    fake_ts.SetPositions(ts.GetPositions())\n",
    "    ff.setup(fake_ts)\n",
    "    \n",
    "    the_h_atom = ts_geom_info[0]\n",
    "    pivot_atom_r1 = ts_geom_info[1]\n",
    "    pivot_atom_r2 = ts_geom_info[2]\n",
    "    \n",
    "    ff.add_distance_constraint(atoms=[the_h_atom,pivot_atom_r1], value=bond_length_X_H)\n",
    "    ff.add_distance_constraint(atoms=[the_h_atom,pivot_atom_r2], value=bond_length_H_Y)\n",
    "    \n",
    "    ff.optimize()\n",
    "    m = ff.get_optimized_mol()\n",
    "    \n",
    "    ts_new = copy.deepcopy(ts)\n",
    "    ts_new.SetPositions(m.GetPositions())\n",
    "    \n",
    "    return ts_new "
   ]
  },
  {
   "cell_type": "code",
   "execution_count": 13,
   "id": "29018d28",
   "metadata": {},
   "outputs": [],
   "source": [
    "# a helper function attempt to generate at least 1 valid ts guess (one that does not have colliding atoms or fragments)\n",
    "# this func will embed max_iter number of times for the ts complex, and see if it is possible to get 1 valid TS guess (may fail after max attempt)\n",
    "# expensive step, can be optimized \n",
    "def gen_valid_ts(rxn_smi,\n",
    "           h_extractor_regexpr,\n",
    "           bond_length_scale_factor,\n",
    "           angle_X_H_Y,\n",
    "           dihedral_1,\n",
    "           dihedral_2,\n",
    "           max_iter,\n",
    "           opt = True,\n",
    "          ):\n",
    "\n",
    "    r_complex = None\n",
    "    p_complex = None\n",
    "    ts = None\n",
    "    frags = None\n",
    "    \n",
    "    counter = 0\n",
    "    relax_score = None\n",
    "    while relax_score is None and counter < max_iter:\n",
    "        try:\n",
    "            r_complex, p_complex, ts, frags, ts_geom_info, ts_est_bd_dist, ts_bd_idx = gen_ts(rxn_smi=rxn_smi,\n",
    "               angle_X_H_Y=angle_X_H_Y,\n",
    "               dihedral_1=dihedral_1,\n",
    "               dihedral_2=dihedral_2,\n",
    "               h_extractor_regexpr=h_extractor_regexpr,\n",
    "               bond_length_scale_factor=bond_length_scale_factor, \n",
    "              )\n",
    "\n",
    "            check_hard_collision(ts)\n",
    "            \n",
    "            if opt:\n",
    "                ts = opt_ts_ff(rxn_smi, ts, ts_geom_info, ts_est_bd_dist, ts_bd_idx)\n",
    "            \n",
    "            threshold = min(ts_est_bd_dist) * 0.98\n",
    "            relax_score = check_fragment_collision(ts, frags, threshold=threshold)\n",
    "            \n",
    "        except:\n",
    "            pass\n",
    "        finally:\n",
    "            counter += 1\n",
    "    \n",
    "    return r_complex, p_complex, ts, frags, relax_score, ts_geom_info, ts_est_bd_dist"
   ]
  },
  {
   "cell_type": "code",
   "execution_count": 14,
   "id": "37124d31",
   "metadata": {},
   "outputs": [],
   "source": [
    "# a helper function to attempt to generate N valid TS guesses, each with a score upto some max iteration \n",
    "# expensive step, can be optimized \n",
    "def gen_n_ts_confs(\n",
    "           rxn_smi,\n",
    "           angle_X_H_Y,\n",
    "           dihedral_1,\n",
    "           dihedral_2,\n",
    "           h_extractor_regexpr,\n",
    "           bond_length_scale_factor=1.25,\n",
    "           max_iter_per_conf = 50,\n",
    "           num_confs = 5,\n",
    "           max_total_iter = 20,\n",
    "):\n",
    "    \n",
    "    result = list()\n",
    "    result_count = len(result)\n",
    "    \n",
    "    iter_counter = 0\n",
    "    while result_count < num_confs and iter_counter < max_total_iter:\n",
    "        try:\n",
    "            r_complex, p_complex, ts, frags, relax_score, ts_geom_info, ts_est_bd_dist = gen_valid_ts(rxn_smi=rxn_smi,\n",
    "               h_extractor_regexpr=h_extractor_regexpr,\n",
    "               bond_length_scale_factor=bond_length_scale_factor,\n",
    "               angle_X_H_Y=angle_X_H_Y,\n",
    "               dihedral_1=dihedral_1,\n",
    "               dihedral_2=dihedral_2,\n",
    "               max_iter=max_iter_per_conf,\n",
    "              )\n",
    "            if all([relax_score, r_complex, p_complex, ts, frags]):\n",
    "                xyz = ts.ToXYZ()\n",
    "                g_xyz = \"\\n\".join([l for l in xyz.splitlines()[2:]]) + \"\\n\\n\"\n",
    "                result.append(tuple([relax_score, r_complex, p_complex, ts, frags, g_xyz, ts_geom_info, ts_est_bd_dist])) \n",
    "        except:\n",
    "            pass\n",
    "        finally:\n",
    "            iter_counter += 1\n",
    "            result_count = len(result)\n",
    "    \n",
    "    if not result:\n",
    "        raise ValueError('Failed to generate TS conformers.')\n",
    "    else:\n",
    "        result.sort(key=lambda y:y[0])\n",
    "        result_g_xyz = [x[5] for x in result]\n",
    "        return result, result_g_xyz"
   ]
  },
  {
   "cell_type": "markdown",
   "id": "e39e9b23",
   "metadata": {},
   "source": [
    "# Test TS generation (expensive step)"
   ]
  },
  {
   "cell_type": "code",
   "execution_count": 15,
   "id": "473970e9",
   "metadata": {},
   "outputs": [],
   "source": [
    "rxn_smi = '[Br:4][c:10]1[c:8]([C:14]([O:6][H:18])=[O:7])[c:9]([H:15])[c:11]([Cl:5])[c:12]([H:16])[c:13]1[H:17].[H:1][O:3][O:2]>>[Br:4][c:10]1[c:8]([C:14]([O:6])=[O:7])[c:9]([H:15])[c:11]([Cl:5])[c:12]([H:16])[c:13]1[H:17].[H:1][O:3][O:2][H:18]'"
   ]
  },
  {
   "cell_type": "code",
   "execution_count": 16,
   "id": "7241ccfb",
   "metadata": {},
   "outputs": [],
   "source": [
    "r_complex, p_complex, ts, frags, relax_score, ts_geom_info, ts_est_bd_dist = gen_valid_ts(rxn_smi,\n",
    "           h_extractor_regexpr='[O:3][O:2]',\n",
    "           bond_length_scale_factor=1.25,\n",
    "           angle_X_H_Y=120,\n",
    "           dihedral_1=0,\n",
    "           dihedral_2=0,\n",
    "           max_iter=20,\n",
    "           opt = True,\n",
    "          )"
   ]
  },
  {
   "cell_type": "code",
   "execution_count": 17,
   "id": "96d7ff4c",
   "metadata": {},
   "outputs": [
    {
     "data": {
      "application/3dmoljs_load.v0": "<div id=\"3dmolviewer_1694162697485114\"  style=\"position: relative; width: 250px; height: 400px\">\n        <p id=\"3dmolwarning_1694162697485114\" style=\"background-color:#ffcccc;color:black\">You appear to be running in JupyterLab (or JavaScript failed to load for some other reason).  You need to install the 3dmol extension: <br>\n        <tt>jupyter labextension install jupyterlab_3dmol</tt></p>\n        </div>\n<script>\n\nvar loadScriptAsync = function(uri){\n  return new Promise((resolve, reject) => {\n    var tag = document.createElement('script');\n    tag.src = uri;\n    tag.async = true;\n    tag.onload = () => {\n      resolve();\n    };\n  var firstScriptTag = document.getElementsByTagName('script')[0];\n  firstScriptTag.parentNode.insertBefore(tag, firstScriptTag);\n});\n};\n\nif(typeof $3Dmolpromise === 'undefined') {\n$3Dmolpromise = null;\n  $3Dmolpromise = loadScriptAsync('https://3dmol.csb.pitt.edu/build/3Dmol.js');\n}\n\nvar viewer_1694162697485114 = null;\nvar warn = document.getElementById(\"3dmolwarning_1694162697485114\");\nif(warn) {\n    warn.parentNode.removeChild(warn);\n}\n$3Dmolpromise.then(function() {\nvar viewergrid_1694162697485114 = null;\nviewergrid_1694162697485114 = $3Dmol.createViewerGrid($(\"#3dmolviewer_1694162697485114\"),{rows: 1, cols: 1, control_all: false},{backgroundColor:\"white\"});\nviewer_1694162697485114 = viewergrid_1694162697485114[0][0];\n\tviewergrid_1694162697485114[0][0].addModel(\"\\n     RDKit          3D\\n\\n 18 18  0  0  0  0  0  0  0  0999 V2000\\n   -0.0675   -1.3691    0.3509 H   0  0  0  0  0  0  0  0  0  1  0  0\\n    1.2182   -0.2248   -0.6606 O   0  0  0  0  0  1  0  0  0  2  0  0\\n    0.0499   -1.0213   -0.5625 O   0  0  0  0  0  0  0  0  0  3  0  0\\n   -0.6101   -0.6099    4.7235 Br  0  0  0  0  0  0  0  0  0  4  0  0\\n    5.7675   -0.5809    5.3804 Cl  0  0  0  0  0  0  0  0  0  5  0  0\\n    2.3405    0.0419    1.4945 O   0  0  0  0  0  0  0  0  0  6  0  0\\n    0.6328   -1.3437    1.9333 O   0  0  0  0  0  0  0  0  0  7  0  0\\n    2.1264   -0.6526    3.7092 C   0  0  0  0  0  0  0  0  0  8  0  0\\n    3.5205   -0.6309    3.8874 C   0  0  0  0  0  0  0  0  0  9  0  0\\n    1.2857   -0.6439    4.8311 C   0  0  0  0  0  0  0  0  0 10  0  0\\n    4.0607   -0.6034    5.1709 C   0  0  0  0  0  0  0  0  0 11  0  0\\n    3.2281   -0.5984    6.2865 C   0  0  0  0  0  0  0  0  0 12  0  0\\n    1.8421   -0.6167    6.1171 C   0  0  0  0  0  0  0  0  0 13  0  0\\n    1.5984   -0.7156    2.3280 C   0  0  0  0  0  0  0  0  0 14  0  0\\n    4.1827   -0.6405    3.0241 H   0  0  0  0  0  0  0  0  0 15  0  0\\n    3.6491   -0.5766    7.2890 H   0  0  0  0  0  0  0  0  0 16  0  0\\n    1.2024   -0.6040    6.9976 H   0  0  0  0  0  0  0  0  0 17  0  0\\n    1.7962   -0.0716    0.4034 H   0  0  0  0  0  0  0  0  0 18  0  0\\n  4 10  1  0\\n 10  8  2  0\\n  8 14  1  0\\n 14  6  1  0\\n 14  7  2  0\\n  8  9  1  0\\n  9 15  1  0\\n  9 11  2  0\\n 11  5  1  0\\n 11 12  1  0\\n 12 16  1  0\\n 12 13  2  0\\n 13 17  1  0\\n  1  3  1  0\\n  3  2  1  0\\n 13 10  1  0\\n  2 18  0  0\\n  6 18  0  0\\nM  RAD  1   2   2\\nM  END\\n\",\"sdf\");\n\tviewergrid_1694162697485114[0][0].setStyle({\"stick\": {\"radius\": 0.05, \"color\": \"#f2f2f2\"}, \"sphere\": {\"scale\": 0.25}});\n\tviewergrid_1694162697485114[0][0].addPropertyLabels(\"index\",\"\",{\"fontSize\": 15, \"fontColor\": \"white\", \"showBackground\": true, \"alignment\": \"center\", \"backgroundOpacity\": 0.2, \"backgroundColor\": \"black\"});\n\tviewergrid_1694162697485114[0][0].zoomTo();\n\tviewergrid_1694162697485114[0][0].addCylinder({\"start\": {\"x\": 2.340473782995562, \"y\": 0.041922440754366255, \"z\": 1.4944540017534833}, \"end\": {\"x\": 1.7962210094014663, \"y\": -0.07164768381519639, \"z\": 0.40340489313843775}, \"color\": \"red\", \"radius\": 0.1, \"dashed\": true});\n\tviewergrid_1694162697485114[0][0].addCylinder({\"start\": {\"x\": 1.2182156996652402, \"y\": -0.22483964946510138, \"z\": -0.6605540747348725}, \"end\": {\"x\": 1.7962210094014663, \"y\": -0.07164768381519639, \"z\": 0.40340489313843775}, \"color\": \"green\", \"radius\": 0.1, \"dashed\": true});\n\tviewergrid_1694162697485114[0][0].zoomTo();\nviewergrid_1694162697485114[0][0].render();\n});\n</script>",
      "text/html": [
       "<div id=\"3dmolviewer_1694162697485114\"  style=\"position: relative; width: 250px; height: 400px\">\n",
       "        <p id=\"3dmolwarning_1694162697485114\" style=\"background-color:#ffcccc;color:black\">You appear to be running in JupyterLab (or JavaScript failed to load for some other reason).  You need to install the 3dmol extension: <br>\n",
       "        <tt>jupyter labextension install jupyterlab_3dmol</tt></p>\n",
       "        </div>\n",
       "<script>\n",
       "\n",
       "var loadScriptAsync = function(uri){\n",
       "  return new Promise((resolve, reject) => {\n",
       "    var tag = document.createElement('script');\n",
       "    tag.src = uri;\n",
       "    tag.async = true;\n",
       "    tag.onload = () => {\n",
       "      resolve();\n",
       "    };\n",
       "  var firstScriptTag = document.getElementsByTagName('script')[0];\n",
       "  firstScriptTag.parentNode.insertBefore(tag, firstScriptTag);\n",
       "});\n",
       "};\n",
       "\n",
       "if(typeof $3Dmolpromise === 'undefined') {\n",
       "$3Dmolpromise = null;\n",
       "  $3Dmolpromise = loadScriptAsync('https://3dmol.csb.pitt.edu/build/3Dmol.js');\n",
       "}\n",
       "\n",
       "var viewer_1694162697485114 = null;\n",
       "var warn = document.getElementById(\"3dmolwarning_1694162697485114\");\n",
       "if(warn) {\n",
       "    warn.parentNode.removeChild(warn);\n",
       "}\n",
       "$3Dmolpromise.then(function() {\n",
       "var viewergrid_1694162697485114 = null;\n",
       "viewergrid_1694162697485114 = $3Dmol.createViewerGrid($(\"#3dmolviewer_1694162697485114\"),{rows: 1, cols: 1, control_all: false},{backgroundColor:\"white\"});\n",
       "viewer_1694162697485114 = viewergrid_1694162697485114[0][0];\n",
       "\tviewergrid_1694162697485114[0][0].addModel(\"\\n     RDKit          3D\\n\\n 18 18  0  0  0  0  0  0  0  0999 V2000\\n   -0.0675   -1.3691    0.3509 H   0  0  0  0  0  0  0  0  0  1  0  0\\n    1.2182   -0.2248   -0.6606 O   0  0  0  0  0  1  0  0  0  2  0  0\\n    0.0499   -1.0213   -0.5625 O   0  0  0  0  0  0  0  0  0  3  0  0\\n   -0.6101   -0.6099    4.7235 Br  0  0  0  0  0  0  0  0  0  4  0  0\\n    5.7675   -0.5809    5.3804 Cl  0  0  0  0  0  0  0  0  0  5  0  0\\n    2.3405    0.0419    1.4945 O   0  0  0  0  0  0  0  0  0  6  0  0\\n    0.6328   -1.3437    1.9333 O   0  0  0  0  0  0  0  0  0  7  0  0\\n    2.1264   -0.6526    3.7092 C   0  0  0  0  0  0  0  0  0  8  0  0\\n    3.5205   -0.6309    3.8874 C   0  0  0  0  0  0  0  0  0  9  0  0\\n    1.2857   -0.6439    4.8311 C   0  0  0  0  0  0  0  0  0 10  0  0\\n    4.0607   -0.6034    5.1709 C   0  0  0  0  0  0  0  0  0 11  0  0\\n    3.2281   -0.5984    6.2865 C   0  0  0  0  0  0  0  0  0 12  0  0\\n    1.8421   -0.6167    6.1171 C   0  0  0  0  0  0  0  0  0 13  0  0\\n    1.5984   -0.7156    2.3280 C   0  0  0  0  0  0  0  0  0 14  0  0\\n    4.1827   -0.6405    3.0241 H   0  0  0  0  0  0  0  0  0 15  0  0\\n    3.6491   -0.5766    7.2890 H   0  0  0  0  0  0  0  0  0 16  0  0\\n    1.2024   -0.6040    6.9976 H   0  0  0  0  0  0  0  0  0 17  0  0\\n    1.7962   -0.0716    0.4034 H   0  0  0  0  0  0  0  0  0 18  0  0\\n  4 10  1  0\\n 10  8  2  0\\n  8 14  1  0\\n 14  6  1  0\\n 14  7  2  0\\n  8  9  1  0\\n  9 15  1  0\\n  9 11  2  0\\n 11  5  1  0\\n 11 12  1  0\\n 12 16  1  0\\n 12 13  2  0\\n 13 17  1  0\\n  1  3  1  0\\n  3  2  1  0\\n 13 10  1  0\\n  2 18  0  0\\n  6 18  0  0\\nM  RAD  1   2   2\\nM  END\\n\",\"sdf\");\n",
       "\tviewergrid_1694162697485114[0][0].setStyle({\"stick\": {\"radius\": 0.05, \"color\": \"#f2f2f2\"}, \"sphere\": {\"scale\": 0.25}});\n",
       "\tviewergrid_1694162697485114[0][0].addPropertyLabels(\"index\",\"\",{\"fontSize\": 15, \"fontColor\": \"white\", \"showBackground\": true, \"alignment\": \"center\", \"backgroundOpacity\": 0.2, \"backgroundColor\": \"black\"});\n",
       "\tviewergrid_1694162697485114[0][0].zoomTo();\n",
       "\tviewergrid_1694162697485114[0][0].addCylinder({\"start\": {\"x\": 2.340473782995562, \"y\": 0.041922440754366255, \"z\": 1.4944540017534833}, \"end\": {\"x\": 1.7962210094014663, \"y\": -0.07164768381519639, \"z\": 0.40340489313843775}, \"color\": \"red\", \"radius\": 0.1, \"dashed\": true});\n",
       "\tviewergrid_1694162697485114[0][0].addCylinder({\"start\": {\"x\": 1.2182156996652402, \"y\": -0.22483964946510138, \"z\": -0.6605540747348725}, \"end\": {\"x\": 1.7962210094014663, \"y\": -0.07164768381519639, \"z\": 0.40340489313843775}, \"color\": \"green\", \"radius\": 0.1, \"dashed\": true});\n",
       "\tviewergrid_1694162697485114[0][0].zoomTo();\n",
       "viewergrid_1694162697485114[0][0].render();\n",
       "});\n",
       "</script>"
      ]
     },
     "metadata": {},
     "output_type": "display_data"
    },
    {
     "data": {
      "text/plain": [
       "<py3Dmol.view at 0x147d81176ef0>"
      ]
     },
     "execution_count": 17,
     "metadata": {},
     "output_type": "execute_result"
    }
   ],
   "source": [
    "ts_viewer(r_complex, p_complex, ts, only_ts=True)"
   ]
  },
  {
   "cell_type": "code",
   "execution_count": 18,
   "id": "c78caa35",
   "metadata": {},
   "outputs": [
    {
     "data": {
      "text/plain": [
       "(1.2200915388985287, 1.225853404121895)"
      ]
     },
     "execution_count": 18,
     "metadata": {},
     "output_type": "execute_result"
    }
   ],
   "source": [
    "ts_est_bd_dist"
   ]
  },
  {
   "cell_type": "code",
   "execution_count": 19,
   "id": "b9d067cc",
   "metadata": {},
   "outputs": [],
   "source": [
    "result, result_g_xyz = gen_n_ts_confs(\n",
    "           rxn_smi,\n",
    "           angle_X_H_Y=120,\n",
    "           dihedral_1=0,\n",
    "           dihedral_2=0,\n",
    "           h_extractor_regexpr='[O:3][O:2]',\n",
    "           bond_length_scale_factor=1.25,\n",
    "           max_iter_per_conf = 20,\n",
    "           num_confs = 2,\n",
    "           max_total_iter = 10,\n",
    ")"
   ]
  },
  {
   "cell_type": "code",
   "execution_count": 20,
   "id": "282b8293",
   "metadata": {},
   "outputs": [],
   "source": [
    "# best conformer"
   ]
  },
  {
   "cell_type": "code",
   "execution_count": 21,
   "id": "afb9f124",
   "metadata": {},
   "outputs": [],
   "source": [
    "relax_score, r_complex, p_complex, ts, frags, g_xyz, ts_geom_info, ts_est_bd_dist = result[0]"
   ]
  },
  {
   "cell_type": "code",
   "execution_count": 22,
   "id": "0bbef003",
   "metadata": {},
   "outputs": [
    {
     "data": {
      "application/3dmoljs_load.v0": "<div id=\"3dmolviewer_16941626992439\"  style=\"position: relative; width: 250px; height: 400px\">\n        <p id=\"3dmolwarning_16941626992439\" style=\"background-color:#ffcccc;color:black\">You appear to be running in JupyterLab (or JavaScript failed to load for some other reason).  You need to install the 3dmol extension: <br>\n        <tt>jupyter labextension install jupyterlab_3dmol</tt></p>\n        </div>\n<script>\n\nvar loadScriptAsync = function(uri){\n  return new Promise((resolve, reject) => {\n    var tag = document.createElement('script');\n    tag.src = uri;\n    tag.async = true;\n    tag.onload = () => {\n      resolve();\n    };\n  var firstScriptTag = document.getElementsByTagName('script')[0];\n  firstScriptTag.parentNode.insertBefore(tag, firstScriptTag);\n});\n};\n\nif(typeof $3Dmolpromise === 'undefined') {\n$3Dmolpromise = null;\n  $3Dmolpromise = loadScriptAsync('https://3dmol.csb.pitt.edu/build/3Dmol.js');\n}\n\nvar viewer_16941626992439 = null;\nvar warn = document.getElementById(\"3dmolwarning_16941626992439\");\nif(warn) {\n    warn.parentNode.removeChild(warn);\n}\n$3Dmolpromise.then(function() {\nvar viewergrid_16941626992439 = null;\nviewergrid_16941626992439 = $3Dmol.createViewerGrid($(\"#3dmolviewer_16941626992439\"),{rows: 1, cols: 1, control_all: false},{backgroundColor:\"white\"});\nviewer_16941626992439 = viewergrid_16941626992439[0][0];\n\tviewergrid_16941626992439[0][0].addModel(\"\\n     RDKit          3D\\n\\n 18 18  0  0  0  0  0  0  0  0999 V2000\\n    0.3206    0.2241    1.4155 H   0  0  0  0  0  0  0  0  0  1  0  0\\n    0.9013   -0.4578   -0.3686 O   0  0  0  0  0  1  0  0  0  2  0  0\\n    0.1024   -0.5126    0.8009 O   0  0  0  0  0  0  0  0  0  3  0  0\\n    5.3963    1.7439    0.7767 Br  0  0  0  0  0  0  0  0  0  4  0  0\\n    2.0104    7.1230    1.6119 Cl  0  0  0  0  0  0  0  0  0  5  0  0\\n    2.3912    1.4788   -0.3707 O   0  0  0  0  0  0  0  0  0  6  0  0\\n    1.3105    1.6393    1.6008 O   0  0  0  0  0  0  0  0  0  7  0  0\\n    2.9362    3.2842    0.9836 C   0  0  0  0  0  0  0  0  0  8  0  0\\n    2.2131    4.4653    1.2004 C   0  0  0  0  0  0  0  0  0  9  0  0\\n    4.3358    3.3079    0.9550 C   0  0  0  0  0  0  0  0  0 10  0  0\\n    2.8937    5.6697    1.3575 C   0  0  0  0  0  0  0  0  0 11  0  0\\n    4.2863    5.7062    1.3104 C   0  0  0  0  0  0  0  0  0 12  0  0\\n    5.0077    4.5254    1.1139 C   0  0  0  0  0  0  0  0  0 13  0  0\\n    2.1510    2.0530    0.8210 C   0  0  0  0  0  0  0  0  0 14  0  0\\n    1.1264    4.4412    1.2391 H   0  0  0  0  0  0  0  0  0 15  0  0\\n    4.8170    6.6474    1.4340 H   0  0  0  0  0  0  0  0  0 16  0  0\\n    6.0949    4.5654    1.0952 H   0  0  0  0  0  0  0  0  0 17  0  0\\n    1.6599    0.4974   -0.4092 H   0  0  0  0  0  0  0  0  0 18  0  0\\n  4 10  1  0\\n 10  8  2  0\\n  8 14  1  0\\n 14  6  1  0\\n 14  7  2  0\\n  8  9  1  0\\n  9 15  1  0\\n  9 11  2  0\\n 11  5  1  0\\n 11 12  1  0\\n 12 16  1  0\\n 12 13  2  0\\n 13 17  1  0\\n  1  3  1  0\\n  3  2  1  0\\n 13 10  1  0\\n  2 18  0  0\\n  6 18  0  0\\nM  RAD  1   2   2\\nM  END\\n\",\"sdf\");\n\tviewergrid_16941626992439[0][0].setStyle({\"stick\": {\"radius\": 0.05, \"color\": \"#f2f2f2\"}, \"sphere\": {\"scale\": 0.25}});\n\tviewergrid_16941626992439[0][0].addPropertyLabels(\"index\",\"\",{\"fontSize\": 15, \"fontColor\": \"white\", \"showBackground\": true, \"alignment\": \"center\", \"backgroundOpacity\": 0.2, \"backgroundColor\": \"black\"});\n\tviewergrid_16941626992439[0][0].zoomTo();\n\tviewergrid_16941626992439[0][0].addCylinder({\"start\": {\"x\": 2.391213855921704, \"y\": 1.4788134026215878, \"z\": -0.3707292672608902}, \"end\": {\"x\": 1.659894827062434, \"y\": 0.49740115892310455, \"z\": -0.4092315949802255}, \"color\": \"red\", \"radius\": 0.1, \"dashed\": true});\n\tviewergrid_16941626992439[0][0].addCylinder({\"start\": {\"x\": 0.901270954020524, \"y\": -0.45779831744658755, \"z\": -0.3685880264239337}, \"end\": {\"x\": 1.659894827062434, \"y\": 0.49740115892310455, \"z\": -0.4092315949802255}, \"color\": \"green\", \"radius\": 0.1, \"dashed\": true});\n\tviewergrid_16941626992439[0][0].zoomTo();\nviewergrid_16941626992439[0][0].render();\n});\n</script>",
      "text/html": [
       "<div id=\"3dmolviewer_16941626992439\"  style=\"position: relative; width: 250px; height: 400px\">\n",
       "        <p id=\"3dmolwarning_16941626992439\" style=\"background-color:#ffcccc;color:black\">You appear to be running in JupyterLab (or JavaScript failed to load for some other reason).  You need to install the 3dmol extension: <br>\n",
       "        <tt>jupyter labextension install jupyterlab_3dmol</tt></p>\n",
       "        </div>\n",
       "<script>\n",
       "\n",
       "var loadScriptAsync = function(uri){\n",
       "  return new Promise((resolve, reject) => {\n",
       "    var tag = document.createElement('script');\n",
       "    tag.src = uri;\n",
       "    tag.async = true;\n",
       "    tag.onload = () => {\n",
       "      resolve();\n",
       "    };\n",
       "  var firstScriptTag = document.getElementsByTagName('script')[0];\n",
       "  firstScriptTag.parentNode.insertBefore(tag, firstScriptTag);\n",
       "});\n",
       "};\n",
       "\n",
       "if(typeof $3Dmolpromise === 'undefined') {\n",
       "$3Dmolpromise = null;\n",
       "  $3Dmolpromise = loadScriptAsync('https://3dmol.csb.pitt.edu/build/3Dmol.js');\n",
       "}\n",
       "\n",
       "var viewer_16941626992439 = null;\n",
       "var warn = document.getElementById(\"3dmolwarning_16941626992439\");\n",
       "if(warn) {\n",
       "    warn.parentNode.removeChild(warn);\n",
       "}\n",
       "$3Dmolpromise.then(function() {\n",
       "var viewergrid_16941626992439 = null;\n",
       "viewergrid_16941626992439 = $3Dmol.createViewerGrid($(\"#3dmolviewer_16941626992439\"),{rows: 1, cols: 1, control_all: false},{backgroundColor:\"white\"});\n",
       "viewer_16941626992439 = viewergrid_16941626992439[0][0];\n",
       "\tviewergrid_16941626992439[0][0].addModel(\"\\n     RDKit          3D\\n\\n 18 18  0  0  0  0  0  0  0  0999 V2000\\n    0.3206    0.2241    1.4155 H   0  0  0  0  0  0  0  0  0  1  0  0\\n    0.9013   -0.4578   -0.3686 O   0  0  0  0  0  1  0  0  0  2  0  0\\n    0.1024   -0.5126    0.8009 O   0  0  0  0  0  0  0  0  0  3  0  0\\n    5.3963    1.7439    0.7767 Br  0  0  0  0  0  0  0  0  0  4  0  0\\n    2.0104    7.1230    1.6119 Cl  0  0  0  0  0  0  0  0  0  5  0  0\\n    2.3912    1.4788   -0.3707 O   0  0  0  0  0  0  0  0  0  6  0  0\\n    1.3105    1.6393    1.6008 O   0  0  0  0  0  0  0  0  0  7  0  0\\n    2.9362    3.2842    0.9836 C   0  0  0  0  0  0  0  0  0  8  0  0\\n    2.2131    4.4653    1.2004 C   0  0  0  0  0  0  0  0  0  9  0  0\\n    4.3358    3.3079    0.9550 C   0  0  0  0  0  0  0  0  0 10  0  0\\n    2.8937    5.6697    1.3575 C   0  0  0  0  0  0  0  0  0 11  0  0\\n    4.2863    5.7062    1.3104 C   0  0  0  0  0  0  0  0  0 12  0  0\\n    5.0077    4.5254    1.1139 C   0  0  0  0  0  0  0  0  0 13  0  0\\n    2.1510    2.0530    0.8210 C   0  0  0  0  0  0  0  0  0 14  0  0\\n    1.1264    4.4412    1.2391 H   0  0  0  0  0  0  0  0  0 15  0  0\\n    4.8170    6.6474    1.4340 H   0  0  0  0  0  0  0  0  0 16  0  0\\n    6.0949    4.5654    1.0952 H   0  0  0  0  0  0  0  0  0 17  0  0\\n    1.6599    0.4974   -0.4092 H   0  0  0  0  0  0  0  0  0 18  0  0\\n  4 10  1  0\\n 10  8  2  0\\n  8 14  1  0\\n 14  6  1  0\\n 14  7  2  0\\n  8  9  1  0\\n  9 15  1  0\\n  9 11  2  0\\n 11  5  1  0\\n 11 12  1  0\\n 12 16  1  0\\n 12 13  2  0\\n 13 17  1  0\\n  1  3  1  0\\n  3  2  1  0\\n 13 10  1  0\\n  2 18  0  0\\n  6 18  0  0\\nM  RAD  1   2   2\\nM  END\\n\",\"sdf\");\n",
       "\tviewergrid_16941626992439[0][0].setStyle({\"stick\": {\"radius\": 0.05, \"color\": \"#f2f2f2\"}, \"sphere\": {\"scale\": 0.25}});\n",
       "\tviewergrid_16941626992439[0][0].addPropertyLabels(\"index\",\"\",{\"fontSize\": 15, \"fontColor\": \"white\", \"showBackground\": true, \"alignment\": \"center\", \"backgroundOpacity\": 0.2, \"backgroundColor\": \"black\"});\n",
       "\tviewergrid_16941626992439[0][0].zoomTo();\n",
       "\tviewergrid_16941626992439[0][0].addCylinder({\"start\": {\"x\": 2.391213855921704, \"y\": 1.4788134026215878, \"z\": -0.3707292672608902}, \"end\": {\"x\": 1.659894827062434, \"y\": 0.49740115892310455, \"z\": -0.4092315949802255}, \"color\": \"red\", \"radius\": 0.1, \"dashed\": true});\n",
       "\tviewergrid_16941626992439[0][0].addCylinder({\"start\": {\"x\": 0.901270954020524, \"y\": -0.45779831744658755, \"z\": -0.3685880264239337}, \"end\": {\"x\": 1.659894827062434, \"y\": 0.49740115892310455, \"z\": -0.4092315949802255}, \"color\": \"green\", \"radius\": 0.1, \"dashed\": true});\n",
       "\tviewergrid_16941626992439[0][0].zoomTo();\n",
       "viewergrid_16941626992439[0][0].render();\n",
       "});\n",
       "</script>"
      ]
     },
     "metadata": {},
     "output_type": "display_data"
    },
    {
     "data": {
      "text/plain": [
       "<py3Dmol.view at 0x147d81177280>"
      ]
     },
     "execution_count": 22,
     "metadata": {},
     "output_type": "execute_result"
    }
   ],
   "source": [
    "ts_viewer(r_complex, p_complex, ts, only_ts=True)"
   ]
  },
  {
   "cell_type": "code",
   "execution_count": 23,
   "id": "f6083e5e",
   "metadata": {},
   "outputs": [
    {
     "name": "stdout",
     "output_type": "stream",
     "text": [
      "0.676849902910381\n"
     ]
    }
   ],
   "source": [
    "print(relax_score)"
   ]
  },
  {
   "cell_type": "code",
   "execution_count": 24,
   "id": "338e8354",
   "metadata": {},
   "outputs": [
    {
     "name": "stdout",
     "output_type": "stream",
     "text": [
      "H      0.320639    0.224111    1.415470\n",
      "O      0.901271   -0.457798   -0.368588\n",
      "O      0.102366   -0.512611    0.800851\n",
      "Br     5.396268    1.743884    0.776691\n",
      "Cl     2.010394    7.123008    1.611902\n",
      "O      2.391214    1.478813   -0.370729\n",
      "O      1.310524    1.639306    1.600773\n",
      "C      2.936238    3.284210    0.983649\n",
      "C      2.213121    4.465333    1.200435\n",
      "C      4.335832    3.307930    0.954951\n",
      "C      2.893738    5.669664    1.357452\n",
      "C      4.286296    5.706183    1.310398\n",
      "C      5.007654    4.525409    1.113902\n",
      "C      2.150993    2.053032    0.820957\n",
      "H      1.126389    4.441207    1.239063\n",
      "H      4.816979    6.647443    1.433956\n",
      "H      6.094886    4.565416    1.095170\n",
      "H      1.659895    0.497401   -0.409232\n",
      "\n",
      "\n"
     ]
    }
   ],
   "source": [
    "print(g_xyz)"
   ]
  },
  {
   "cell_type": "code",
   "execution_count": 25,
   "id": "db76f55c",
   "metadata": {},
   "outputs": [],
   "source": [
    "# worst conformer"
   ]
  },
  {
   "cell_type": "code",
   "execution_count": 26,
   "id": "5e795320",
   "metadata": {},
   "outputs": [],
   "source": [
    "relax_score, r_complex, p_complex, ts, frags, g_xyz, ts_geom_info, ts_est_bd_dist = result[-1]"
   ]
  },
  {
   "cell_type": "code",
   "execution_count": 27,
   "id": "4be793da",
   "metadata": {},
   "outputs": [
    {
     "data": {
      "application/3dmoljs_load.v0": "<div id=\"3dmolviewer_16941627008173482\"  style=\"position: relative; width: 250px; height: 400px\">\n        <p id=\"3dmolwarning_16941627008173482\" style=\"background-color:#ffcccc;color:black\">You appear to be running in JupyterLab (or JavaScript failed to load for some other reason).  You need to install the 3dmol extension: <br>\n        <tt>jupyter labextension install jupyterlab_3dmol</tt></p>\n        </div>\n<script>\n\nvar loadScriptAsync = function(uri){\n  return new Promise((resolve, reject) => {\n    var tag = document.createElement('script');\n    tag.src = uri;\n    tag.async = true;\n    tag.onload = () => {\n      resolve();\n    };\n  var firstScriptTag = document.getElementsByTagName('script')[0];\n  firstScriptTag.parentNode.insertBefore(tag, firstScriptTag);\n});\n};\n\nif(typeof $3Dmolpromise === 'undefined') {\n$3Dmolpromise = null;\n  $3Dmolpromise = loadScriptAsync('https://3dmol.csb.pitt.edu/build/3Dmol.js');\n}\n\nvar viewer_16941627008173482 = null;\nvar warn = document.getElementById(\"3dmolwarning_16941627008173482\");\nif(warn) {\n    warn.parentNode.removeChild(warn);\n}\n$3Dmolpromise.then(function() {\nvar viewergrid_16941627008173482 = null;\nviewergrid_16941627008173482 = $3Dmol.createViewerGrid($(\"#3dmolviewer_16941627008173482\"),{rows: 1, cols: 1, control_all: false},{backgroundColor:\"white\"});\nviewer_16941627008173482 = viewergrid_16941627008173482[0][0];\n\tviewergrid_16941627008173482[0][0].addModel(\"\\n     RDKit          3D\\n\\n 18 18  0  0  0  0  0  0  0  0999 V2000\\n   -0.2074   -1.0443    0.1292 H   0  0  0  0  0  0  0  0  0  1  0  0\\n    1.4575   -0.0979   -0.4346 O   0  0  0  0  0  1  0  0  0  2  0  0\\n    0.1865   -0.6703   -0.6917 O   0  0  0  0  0  0  0  0  0  3  0  0\\n   -1.6765   -0.4597    4.3115 Br  0  0  0  0  0  0  0  0  0  4  0  0\\n    4.2593   -1.6424    6.4264 Cl  0  0  0  0  0  0  0  0  0  5  0  0\\n    2.0431   -0.1706    1.9369 O   0  0  0  0  0  0  0  0  0  6  0  0\\n    0.0765   -1.2424    1.8249 O   0  0  0  0  0  0  0  0  0  7  0  0\\n    1.1801   -0.9442    3.9593 C   0  0  0  0  0  0  0  0  0  8  0  0\\n    2.4717   -1.1898    4.4566 C   0  0  0  0  0  0  0  0  0  9  0  0\\n    0.1025   -0.8479    4.8510 C   0  0  0  0  0  0  0  0  0 10  0  0\\n    2.6766   -1.3383    5.8262 C   0  0  0  0  0  0  0  0  0 11  0  0\\n    1.6077   -1.2466    6.7134 C   0  0  0  0  0  0  0  0  0 12  0  0\\n    0.3223   -0.9998    6.2267 C   0  0  0  0  0  0  0  0  0 13  0  0\\n    1.0050   -0.8270    2.4944 C   0  0  0  0  0  0  0  0  0 14  0  0\\n    3.3150   -1.2696    3.7737 H   0  0  0  0  0  0  0  0  0 15  0  0\\n    1.7670   -1.3622    7.7829 H   0  0  0  0  0  0  0  0  0 16  0  0\\n   -0.5032   -0.9221    6.9318 H   0  0  0  0  0  0  0  0  0 17  0  0\\n    1.7730   -0.1171    0.7442 H   0  0  0  0  0  0  0  0  0 18  0  0\\n  4 10  1  0\\n 10  8  2  0\\n  8 14  1  0\\n 14  6  1  0\\n 14  7  2  0\\n  8  9  1  0\\n  9 15  1  0\\n  9 11  2  0\\n 11  5  1  0\\n 11 12  1  0\\n 12 16  1  0\\n 12 13  2  0\\n 13 17  1  0\\n  1  3  1  0\\n  3  2  1  0\\n 13 10  1  0\\n  2 18  0  0\\n  6 18  0  0\\nM  RAD  1   2   2\\nM  END\\n\",\"sdf\");\n\tviewergrid_16941627008173482[0][0].setStyle({\"stick\": {\"radius\": 0.05, \"color\": \"#f2f2f2\"}, \"sphere\": {\"scale\": 0.25}});\n\tviewergrid_16941627008173482[0][0].addPropertyLabels(\"index\",\"\",{\"fontSize\": 15, \"fontColor\": \"white\", \"showBackground\": true, \"alignment\": \"center\", \"backgroundOpacity\": 0.2, \"backgroundColor\": \"black\"});\n\tviewergrid_16941627008173482[0][0].zoomTo();\n\tviewergrid_16941627008173482[0][0].addCylinder({\"start\": {\"x\": 2.0431085067571946, \"y\": -0.17058088751828174, \"z\": 1.9369076856927159}, \"end\": {\"x\": 1.7729679505174258, \"y\": -0.11714370430419184, \"z\": 0.7441820655053518}, \"color\": \"red\", \"radius\": 0.1, \"dashed\": true});\n\tviewergrid_16941627008173482[0][0].addCylinder({\"start\": {\"x\": 1.4574523194027524, \"y\": -0.0978700986396157, \"z\": -0.4346499098529182}, \"end\": {\"x\": 1.7729679505174258, \"y\": -0.11714370430419184, \"z\": 0.7441820655053518}, \"color\": \"green\", \"radius\": 0.1, \"dashed\": true});\n\tviewergrid_16941627008173482[0][0].zoomTo();\nviewergrid_16941627008173482[0][0].render();\n});\n</script>",
      "text/html": [
       "<div id=\"3dmolviewer_16941627008173482\"  style=\"position: relative; width: 250px; height: 400px\">\n",
       "        <p id=\"3dmolwarning_16941627008173482\" style=\"background-color:#ffcccc;color:black\">You appear to be running in JupyterLab (or JavaScript failed to load for some other reason).  You need to install the 3dmol extension: <br>\n",
       "        <tt>jupyter labextension install jupyterlab_3dmol</tt></p>\n",
       "        </div>\n",
       "<script>\n",
       "\n",
       "var loadScriptAsync = function(uri){\n",
       "  return new Promise((resolve, reject) => {\n",
       "    var tag = document.createElement('script');\n",
       "    tag.src = uri;\n",
       "    tag.async = true;\n",
       "    tag.onload = () => {\n",
       "      resolve();\n",
       "    };\n",
       "  var firstScriptTag = document.getElementsByTagName('script')[0];\n",
       "  firstScriptTag.parentNode.insertBefore(tag, firstScriptTag);\n",
       "});\n",
       "};\n",
       "\n",
       "if(typeof $3Dmolpromise === 'undefined') {\n",
       "$3Dmolpromise = null;\n",
       "  $3Dmolpromise = loadScriptAsync('https://3dmol.csb.pitt.edu/build/3Dmol.js');\n",
       "}\n",
       "\n",
       "var viewer_16941627008173482 = null;\n",
       "var warn = document.getElementById(\"3dmolwarning_16941627008173482\");\n",
       "if(warn) {\n",
       "    warn.parentNode.removeChild(warn);\n",
       "}\n",
       "$3Dmolpromise.then(function() {\n",
       "var viewergrid_16941627008173482 = null;\n",
       "viewergrid_16941627008173482 = $3Dmol.createViewerGrid($(\"#3dmolviewer_16941627008173482\"),{rows: 1, cols: 1, control_all: false},{backgroundColor:\"white\"});\n",
       "viewer_16941627008173482 = viewergrid_16941627008173482[0][0];\n",
       "\tviewergrid_16941627008173482[0][0].addModel(\"\\n     RDKit          3D\\n\\n 18 18  0  0  0  0  0  0  0  0999 V2000\\n   -0.2074   -1.0443    0.1292 H   0  0  0  0  0  0  0  0  0  1  0  0\\n    1.4575   -0.0979   -0.4346 O   0  0  0  0  0  1  0  0  0  2  0  0\\n    0.1865   -0.6703   -0.6917 O   0  0  0  0  0  0  0  0  0  3  0  0\\n   -1.6765   -0.4597    4.3115 Br  0  0  0  0  0  0  0  0  0  4  0  0\\n    4.2593   -1.6424    6.4264 Cl  0  0  0  0  0  0  0  0  0  5  0  0\\n    2.0431   -0.1706    1.9369 O   0  0  0  0  0  0  0  0  0  6  0  0\\n    0.0765   -1.2424    1.8249 O   0  0  0  0  0  0  0  0  0  7  0  0\\n    1.1801   -0.9442    3.9593 C   0  0  0  0  0  0  0  0  0  8  0  0\\n    2.4717   -1.1898    4.4566 C   0  0  0  0  0  0  0  0  0  9  0  0\\n    0.1025   -0.8479    4.8510 C   0  0  0  0  0  0  0  0  0 10  0  0\\n    2.6766   -1.3383    5.8262 C   0  0  0  0  0  0  0  0  0 11  0  0\\n    1.6077   -1.2466    6.7134 C   0  0  0  0  0  0  0  0  0 12  0  0\\n    0.3223   -0.9998    6.2267 C   0  0  0  0  0  0  0  0  0 13  0  0\\n    1.0050   -0.8270    2.4944 C   0  0  0  0  0  0  0  0  0 14  0  0\\n    3.3150   -1.2696    3.7737 H   0  0  0  0  0  0  0  0  0 15  0  0\\n    1.7670   -1.3622    7.7829 H   0  0  0  0  0  0  0  0  0 16  0  0\\n   -0.5032   -0.9221    6.9318 H   0  0  0  0  0  0  0  0  0 17  0  0\\n    1.7730   -0.1171    0.7442 H   0  0  0  0  0  0  0  0  0 18  0  0\\n  4 10  1  0\\n 10  8  2  0\\n  8 14  1  0\\n 14  6  1  0\\n 14  7  2  0\\n  8  9  1  0\\n  9 15  1  0\\n  9 11  2  0\\n 11  5  1  0\\n 11 12  1  0\\n 12 16  1  0\\n 12 13  2  0\\n 13 17  1  0\\n  1  3  1  0\\n  3  2  1  0\\n 13 10  1  0\\n  2 18  0  0\\n  6 18  0  0\\nM  RAD  1   2   2\\nM  END\\n\",\"sdf\");\n",
       "\tviewergrid_16941627008173482[0][0].setStyle({\"stick\": {\"radius\": 0.05, \"color\": \"#f2f2f2\"}, \"sphere\": {\"scale\": 0.25}});\n",
       "\tviewergrid_16941627008173482[0][0].addPropertyLabels(\"index\",\"\",{\"fontSize\": 15, \"fontColor\": \"white\", \"showBackground\": true, \"alignment\": \"center\", \"backgroundOpacity\": 0.2, \"backgroundColor\": \"black\"});\n",
       "\tviewergrid_16941627008173482[0][0].zoomTo();\n",
       "\tviewergrid_16941627008173482[0][0].addCylinder({\"start\": {\"x\": 2.0431085067571946, \"y\": -0.17058088751828174, \"z\": 1.9369076856927159}, \"end\": {\"x\": 1.7729679505174258, \"y\": -0.11714370430419184, \"z\": 0.7441820655053518}, \"color\": \"red\", \"radius\": 0.1, \"dashed\": true});\n",
       "\tviewergrid_16941627008173482[0][0].addCylinder({\"start\": {\"x\": 1.4574523194027524, \"y\": -0.0978700986396157, \"z\": -0.4346499098529182}, \"end\": {\"x\": 1.7729679505174258, \"y\": -0.11714370430419184, \"z\": 0.7441820655053518}, \"color\": \"green\", \"radius\": 0.1, \"dashed\": true});\n",
       "\tviewergrid_16941627008173482[0][0].zoomTo();\n",
       "viewergrid_16941627008173482[0][0].render();\n",
       "});\n",
       "</script>"
      ]
     },
     "metadata": {},
     "output_type": "display_data"
    },
    {
     "data": {
      "text/plain": [
       "<py3Dmol.view at 0x147d81176ce0>"
      ]
     },
     "execution_count": 27,
     "metadata": {},
     "output_type": "execute_result"
    }
   ],
   "source": [
    "ts_viewer(r_complex, p_complex, ts, only_ts=True)"
   ]
  },
  {
   "cell_type": "code",
   "execution_count": 28,
   "id": "9dabaf76",
   "metadata": {},
   "outputs": [
    {
     "name": "stdout",
     "output_type": "stream",
     "text": [
      "0.6801572975871264\n"
     ]
    }
   ],
   "source": [
    "print(relax_score)"
   ]
  },
  {
   "cell_type": "code",
   "execution_count": 29,
   "id": "5eb99e06",
   "metadata": {},
   "outputs": [
    {
     "name": "stdout",
     "output_type": "stream",
     "text": [
      "H     -0.207407   -1.044333    0.129154\n",
      "O      1.457452   -0.097870   -0.434650\n",
      "O      0.186545   -0.670309   -0.691737\n",
      "Br    -1.676484   -0.459719    4.311452\n",
      "Cl     4.259308   -1.642387    6.426352\n",
      "O      2.043109   -0.170581    1.936908\n",
      "O      0.076535   -1.242365    1.824917\n",
      "C      1.180089   -0.944222    3.959305\n",
      "C      2.471670   -1.189765    4.456624\n",
      "C      0.102546   -0.847880    4.850961\n",
      "C      2.676631   -1.338302    5.826245\n",
      "C      1.607749   -1.246607    6.713368\n",
      "C      0.322334   -0.999848    6.226693\n",
      "C      1.004986   -0.827023    2.494358\n",
      "H      3.314988   -1.269603    3.773685\n",
      "H      1.767016   -1.362181    7.782894\n",
      "H     -0.503153   -0.922132    6.931755\n",
      "H      1.772968   -0.117144    0.744182\n",
      "\n",
      "\n"
     ]
    }
   ],
   "source": [
    "print(g_xyz)"
   ]
  },
  {
   "cell_type": "code",
   "execution_count": null,
   "id": "f278ce89",
   "metadata": {},
   "outputs": [],
   "source": []
  }
 ],
 "metadata": {
  "kernelspec": {
   "display_name": "Python 3 (ipykernel)",
   "language": "python",
   "name": "python3"
  },
  "language_info": {
   "codemirror_mode": {
    "name": "ipython",
    "version": 3
   },
   "file_extension": ".py",
   "mimetype": "text/x-python",
   "name": "python",
   "nbconvert_exporter": "python",
   "pygments_lexer": "ipython3",
   "version": "3.10.8"
  }
 },
 "nbformat": 4,
 "nbformat_minor": 5
}
