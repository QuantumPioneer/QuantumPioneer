{
 "cells": [
  {
   "cell_type": "markdown",
   "id": "a4a11e19",
   "metadata": {},
   "source": [
    "# this notebook generate g16 input file for 3-step TS pre-optimization at semi-empirical level"
   ]
  },
  {
   "cell_type": "code",
   "execution_count": 1,
   "id": "53a49581",
   "metadata": {},
   "outputs": [],
   "source": [
    "import os\n",
    "import sys\n",
    "import pandas as pd\n",
    "import json"
   ]
  },
  {
   "cell_type": "code",
   "execution_count": 2,
   "id": "3e6f27d8",
   "metadata": {},
   "outputs": [
    {
     "data": {
      "text/html": [
       "<style>.container { width:100% !important; }</style>"
      ],
      "text/plain": [
       "<IPython.core.display.HTML object>"
      ]
     },
     "metadata": {},
     "output_type": "display_data"
    }
   ],
   "source": [
    "from IPython.display import display, HTML\n",
    "display(HTML(\"<style>.container { width:100% !important; }</style>\"))"
   ]
  },
  {
   "cell_type": "code",
   "execution_count": 5,
   "id": "a62353e5",
   "metadata": {},
   "outputs": [],
   "source": [
    "ts_data = list()\n",
    "f = 'step2_initial_ts_guess.json'\n",
    "with open(f, 'r') as openfile:\n",
    "    ts_data.append(json.load(openfile))"
   ]
  },
  {
   "cell_type": "code",
   "execution_count": 6,
   "id": "a1f7e688",
   "metadata": {},
   "outputs": [],
   "source": [
    "ts_data.sort(key=lambda y:y['rxn_id'])"
   ]
  },
  {
   "cell_type": "code",
   "execution_count": 7,
   "id": "57cd51d9",
   "metadata": {},
   "outputs": [],
   "source": [
    "ts_data = tuple(ts_data)"
   ]
  },
  {
   "cell_type": "code",
   "execution_count": 8,
   "id": "b4b45471",
   "metadata": {},
   "outputs": [],
   "source": [
    "g16_template = \"\"\"%chk=rxn_{check}.chk\n",
    "%mem={ramgb}gb\n",
    "%NProcShared={cpu}\n",
    "\n",
    "#P opt=(ModRedundant,calcall,maxcycle=128,noeig,nomicro) scf=(xqc) iop(7/33=1) iop(2/9=2000) iop(7/127=-99) iop(8/117=-99) am1\n",
    "\n",
    "am1_opt\n",
    "\n",
    "{charge} {multi}\n",
    "{xyz}b {h_atom} {pivot_0} b\n",
    "b {h_atom} {pivot_1} b\n",
    "b {h_atom} {pivot_0} F\n",
    "b {h_atom} {pivot_1} F\n",
    "A {pivot_0} {h_atom} {pivot_1} F\n",
    "\n",
    "\n",
    "--Link1--\n",
    "%chk=rxn_{check}.chk\n",
    "%mem={ramgb}gb\n",
    "%NProcShared={cpu}\n",
    "\n",
    "#P opt=(ModRedundant,ts,calcall,maxcycle=128,noeig,nomicro) scf=(xqc) iop(7/33=1) iop(2/9=2000) geom=check guess=mix pm7\n",
    "\n",
    "pm7_opt_ts_freeze\n",
    "\n",
    "{charge} {multi}\n",
    "\n",
    "b {h_atom} {pivot_0} b\n",
    "b {h_atom} {pivot_1} b\n",
    "b {h_atom} {pivot_0} F\n",
    "b {h_atom} {pivot_1} F\n",
    "A {pivot_0} {h_atom} {pivot_1} F\n",
    "\n",
    "\n",
    "--Link1--\n",
    "%chk=rxn_{check}.chk\n",
    "%mem={ramgb}gb\n",
    "%NProcShared={cpu}\n",
    "\n",
    "#P opt=(ts,calcall,maxcycle=256,noeig,nomicro,cartesian) scf=(xqc) iop(7/33=1) iop(2/9=2000) geom=check guess=mix\n",
    "external=\"/home/gridsan/oscarwu/code/RDMC-main/rdmc/external/xtb_tools/xtb_gaussian.pl --gfn 2 -P\"\n",
    "\n",
    "xtb_opt_ts_free\n",
    "\n",
    "{charge} {multi}\n",
    "\n",
    "\n",
    "\n",
    "\n",
    "\n",
    "\"\"\""
   ]
  },
  {
   "cell_type": "code",
   "execution_count": 9,
   "id": "7bc3300f",
   "metadata": {},
   "outputs": [],
   "source": [
    "for i, data in enumerate(ts_data):\n",
    "       \n",
    "    g16_save_dir = os.getcwd()\n",
    "        \n",
    "    if not os.path.exists(g16_save_dir):\n",
    "        os.mkdir(g16_save_dir)\n",
    "        \n",
    "    smi = data['rxn_smi']\n",
    "    rxn_id = data['rxn_id']\n",
    "    ts_gemo_info = data['ts_geom_info']\n",
    "    h_atom = data['ts_geom_info'][0] + 1\n",
    "    pivot_0 = data['ts_geom_info'][1] + 1\n",
    "    pivot_1 = data['ts_geom_info'][2] + 1\n",
    "    xyz = data['conformers'][0][1]\n",
    "    \n",
    "    g16_input_path = os.path.join(g16_save_dir, f'rxn_{rxn_id}_ts_xtb_opt.gjf')\n",
    "    \n",
    "    with open(g16_input_path, 'w') as f:\n",
    "        f.write(g16_template.format(check=rxn_id, \n",
    "                                    ramgb=46,\n",
    "                                    cpu=46,\n",
    "                                    charge=0,\n",
    "                                    multi=2,\n",
    "                                    xyz=xyz,\n",
    "                                    h_atom=h_atom,\n",
    "                                    pivot_0=pivot_0,\n",
    "                                    pivot_1=pivot_1,\n",
    "        ))"
   ]
  },
  {
   "cell_type": "code",
   "execution_count": null,
   "id": "4444f987",
   "metadata": {},
   "outputs": [],
   "source": []
  }
 ],
 "metadata": {
  "kernelspec": {
   "display_name": "Python 3 (ipykernel)",
   "language": "python",
   "name": "python3"
  },
  "language_info": {
   "codemirror_mode": {
    "name": "ipython",
    "version": 3
   },
   "file_extension": ".py",
   "mimetype": "text/x-python",
   "name": "python",
   "nbconvert_exporter": "python",
   "pygments_lexer": "ipython3",
   "version": "3.10.8"
  }
 },
 "nbformat": 4,
 "nbformat_minor": 5
}
